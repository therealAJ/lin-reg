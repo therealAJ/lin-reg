{
 "cells": [
  {
   "cell_type": "markdown",
   "metadata": {},
   "source": [
    "#### Linear Regression"
   ]
  },
  {
   "cell_type": "code",
   "execution_count": 27,
   "metadata": {
    "collapsed": true
   },
   "outputs": [],
   "source": [
    "def hypothesis(theta, x):\n",
    "    h = theta[0] * x[0] + (theta[1] * x[1])\n",
    "    return h\n",
    "\n",
    "def cost_function(theta, X, y, m):\n",
    "    sse = 0\n",
    "    for i in range(m):\n",
    "        x = X[i]\n",
    "        h_i = hypothesis(theta,x)\n",
    "        y_i = y[i]\n",
    "        err = (h_i - y_i)\n",
    "        sqErr = err**2\n",
    "        sse += sqErr\n",
    "    const = 1 / (2*m)\n",
    "    cost = const * sse\n",
    "    return cost\n",
    "\n",
    "def cfd(theta, X, y, sub_i, m):\n",
    "    sumErr = 0\n",
    "    for i in range(m):\n",
    "        x = X[i]\n",
    "        h_i = hypothesis(theta, x)\n",
    "        y_i = y[i]\n",
    "        err = (h_i - y_i) * x[sub_i]\n",
    "        sumErr += err\n",
    "    cost = (1 / m) * sumErr\n",
    "    return cost\n",
    "\n",
    "def gradient_descent(X, y, theta, m, alpha):\n",
    "    opt_theta = []\n",
    "    constant = alpha * (1 / m)\n",
    "    for i in range(len(theta)):\n",
    "        cost = cfd(theta, X, y, i, m)\n",
    "        updated_theta = theta[i] - constant * cost\n",
    "        opt_theta.append(updated_theta)\n",
    "    return opt_theta\n",
    "\n",
    "def Linear_Regression(X, y, alpha, theta, iter):\n",
    "    m = len(X)\n",
    "    for i in range(iter):\n",
    "        opt_theta = gradient_descent(X, y, theta, m, alpha)\n",
    "        theta = opt_theta\n",
    "    return opt_theta"
   ]
  },
  {
   "cell_type": "markdown",
   "metadata": {},
   "source": [
    "#### Demo"
   ]
  },
  {
   "cell_type": "markdown",
   "metadata": {},
   "source": [
    "##### Set up Data"
   ]
  },
  {
   "cell_type": "code",
   "execution_count": 109,
   "metadata": {
    "collapsed": true
   },
   "outputs": [],
   "source": [
    "x_test = [[1,3],[1,9],[1,2],[1,4],[1,8],[1,2],[1,12],[1,20]]\n",
    "y_test = [12,14,10,23,20,7,13,24]\n",
    "theta = [4,2]\n",
    "alpha = 0.001\n",
    "iterations = 20000"
   ]
  },
  {
   "cell_type": "markdown",
   "metadata": {},
   "source": [
    "##### Run Model"
   ]
  },
  {
   "cell_type": "code",
   "execution_count": 110,
   "metadata": {
    "collapsed": false
   },
   "outputs": [],
   "source": [
    "optimal_theta = Linear_Regression(x_test, y_test, alpha, theta, iterations)"
   ]
  },
  {
   "cell_type": "code",
   "execution_count": 115,
   "metadata": {
    "collapsed": false
   },
   "outputs": [
    {
     "name": "stdout",
     "output_type": "stream",
     "text": [
      "Y-Intercept: 8.178484025061941\n",
      "Slope: 0.8226816794040042\n"
     ]
    }
   ],
   "source": [
    "print(\"Y-Intercept: \" + str(optimal_theta[0]))\n",
    "print(\"Slope: \" + str(optimal_theta[1]))"
   ]
  },
  {
   "cell_type": "markdown",
   "metadata": {},
   "source": [
    "##### Visualization"
   ]
  },
  {
   "cell_type": "code",
   "execution_count": 112,
   "metadata": {
    "collapsed": true
   },
   "outputs": [],
   "source": [
    "import matplotlib.pyplot as plt\n",
    "import numpy as np"
   ]
  },
  {
   "cell_type": "code",
   "execution_count": 113,
   "metadata": {
    "collapsed": true
   },
   "outputs": [],
   "source": [
    "x_input = [3,9,2,4,8,2,12,20]\n",
    "y_input = [12,14,10,23,20,7,13,24]"
   ]
  },
  {
   "cell_type": "code",
   "execution_count": 114,
   "metadata": {
    "collapsed": false
   },
   "outputs": [
    {
     "data": {
      "image/png": "[encoded data removed]",
      "text/plain": [
       "<matplotlib.figure.Figure at 0x1112fc198>"
      ]
     },
     "metadata": {},
     "output_type": "display_data"
    }
   ],
   "source": [
    "plt.plot(x_input, y_input, 'ro')\n",
    "plt.axis([0, 45, 0, 45])\n",
    "abline(optimal_theta[1],optimal_theta[0])\n",
    "plt.show()"
   ]
  },
  {
   "cell_type": "markdown",
   "metadata": {},
   "source": [
    "##### Helpers"
   ]
  },
  {
   "cell_type": "code",
   "execution_count": 61,
   "metadata": {
    "collapsed": true
   },
   "outputs": [],
   "source": [
    "def abline(slope, intercept):\n",
    "    \"\"\"Plot a line from slope and intercept\"\"\"\n",
    "    axes = plt.gca()\n",
    "    x_vals = np.array(axes.get_xlim())\n",
    "    y_vals = intercept + slope * x_vals\n",
    "    plt.plot(x_vals, y_vals, '--')"
   ]
  }
 ],
 "metadata": {
  "kernelspec": {
   "display_name": "Python 3",
   "language": "python",
   "name": "python3"
  },
  "language_info": {
   "codemirror_mode": {
    "name": "ipython",
    "version": 3
   },
   "file_extension": ".py",
   "mimetype": "text/x-python",
   "name": "python",
   "nbconvert_exporter": "python",
   "pygments_lexer": "ipython3",
   "version": "3.6.0"
  }
 },
 "nbformat": 4,
 "nbformat_minor": 2
}
